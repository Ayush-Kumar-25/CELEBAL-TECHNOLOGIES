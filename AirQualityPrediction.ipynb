{
 "cells": [
  {
   "cell_type": "code",
   "execution_count": 1,
   "id": "43528bb0",
   "metadata": {},
   "outputs": [],
   "source": [
    "# TASK"
   ]
  },
  {
   "cell_type": "code",
   "execution_count": 2,
   "id": "2bcf1707",
   "metadata": {},
   "outputs": [
    {
     "name": "stdout",
     "output_type": "stream",
     "text": [
      "                         WHO Region ISO3 WHO Country Name City or Locality  \\\n",
      "0      Eastern Mediterranean Region  AFG      Afghanistan            Kabul   \n",
      "1                   European Region  ALB          Albania           Durres   \n",
      "2                   European Region  ALB          Albania           Durres   \n",
      "3                   European Region  ALB          Albania          Elbasan   \n",
      "4                   European Region  ALB          Albania          Elbasan   \n",
      "...                             ...  ...              ...              ...   \n",
      "32186                African Region  ZAF     South Africa       West Coast   \n",
      "32187                African Region  ZAF     South Africa       West Coast   \n",
      "32188                African Region  ZAF     South Africa       West Coast   \n",
      "32189                African Region  ZAF     South Africa       West Coast   \n",
      "32190                African Region  ZAF     South Africa        West Rand   \n",
      "\n",
      "       Measurement Year  PM2.5 (μg/m3)  PM10 (μg/m3)  NO2 (μg/m3)  \\\n",
      "0                  2019         119.77           NaN          NaN   \n",
      "1                  2015            NaN         17.65        26.63   \n",
      "2                  2016          14.32         24.56        24.78   \n",
      "3                  2015            NaN           NaN        23.96   \n",
      "4                  2016            NaN           NaN        26.26   \n",
      "...                 ...            ...           ...          ...   \n",
      "32186              2015           7.47         24.64         7.64   \n",
      "32187              2016           8.42         33.28         7.27   \n",
      "32188              2017           6.83         20.49         8.72   \n",
      "32189              2018           6.10         17.99         7.15   \n",
      "32190              2016            NaN           NaN        17.85   \n",
      "\n",
      "       PM25 temporal coverage (%)  PM10 temporal coverage (%)  \\\n",
      "0                            18.0                         NaN   \n",
      "1                             NaN                         NaN   \n",
      "2                             NaN                         NaN   \n",
      "3                             NaN                         NaN   \n",
      "4                             NaN                         NaN   \n",
      "...                           ...                         ...   \n",
      "32186                        75.0                        75.0   \n",
      "32187                        75.0                        75.0   \n",
      "32188                        75.0                        75.0   \n",
      "32189                        75.0                        75.0   \n",
      "32190                         NaN                         NaN   \n",
      "\n",
      "       NO2 temporal coverage (%)  \\\n",
      "0                            NaN   \n",
      "1                      83.961187   \n",
      "2                      87.932605   \n",
      "3                      97.853881   \n",
      "4                      96.049636   \n",
      "...                          ...   \n",
      "32186                  75.000000   \n",
      "32187                  75.000000   \n",
      "32188                  75.000000   \n",
      "32189                  75.000000   \n",
      "32190                  75.000000   \n",
      "\n",
      "                                               Reference  \\\n",
      "0      U.S. Department of State, United States Enviro...   \n",
      "1       European Environment Agency (downloaded in 2021)   \n",
      "2       European Environment Agency (downloaded in 2021)   \n",
      "3       European Environment Agency (downloaded in 2021)   \n",
      "4       European Environment Agency (downloaded in 2021)   \n",
      "...                                                  ...   \n",
      "32186       South African Air Quality Information System   \n",
      "32187       South African Air Quality Information System   \n",
      "32188       South African Air Quality Information System   \n",
      "32189       South African Air Quality Information System   \n",
      "32190       South African Air Quality Information System   \n",
      "\n",
      "      Number and type of monitoring stations  Version of the database  Status  \n",
      "0                                        NaN                     2022     NaN  \n",
      "1                                        NaN                     2022     NaN  \n",
      "2                                        NaN                     2022     NaN  \n",
      "3                                        NaN                     2022     NaN  \n",
      "4                                        NaN                     2022     NaN  \n",
      "...                                      ...                      ...     ...  \n",
      "32186      3 Residential-Medium/Upper income                     2022     NaN  \n",
      "32187      2 Residential-Medium/Upper income                     2022     NaN  \n",
      "32188      2 Residential-Medium/Upper income                     2022     NaN  \n",
      "32189      2 Residential-Medium/Upper income                     2022     NaN  \n",
      "32190                                  1 N/A                     2022     NaN  \n",
      "\n",
      "[32191 rows x 15 columns]\n"
     ]
    }
   ],
   "source": [
    "import pandas as pd\n",
    "data=pd.read_excel('AirQuality.xlsx')\n",
    "print(data)"
   ]
  },
  {
   "cell_type": "code",
   "execution_count": 3,
   "id": "4c2c021c",
   "metadata": {},
   "outputs": [],
   "source": [
    "df=data.copy()"
   ]
  },
  {
   "cell_type": "code",
   "execution_count": 4,
   "id": "2a7281c4",
   "metadata": {},
   "outputs": [
    {
     "data": {
      "text/html": [
       "<div>\n",
       "<style scoped>\n",
       "    .dataframe tbody tr th:only-of-type {\n",
       "        vertical-align: middle;\n",
       "    }\n",
       "\n",
       "    .dataframe tbody tr th {\n",
       "        vertical-align: top;\n",
       "    }\n",
       "\n",
       "    .dataframe thead th {\n",
       "        text-align: right;\n",
       "    }\n",
       "</style>\n",
       "<table border=\"1\" class=\"dataframe\">\n",
       "  <thead>\n",
       "    <tr style=\"text-align: right;\">\n",
       "      <th></th>\n",
       "      <th>WHO Region</th>\n",
       "      <th>ISO3</th>\n",
       "      <th>WHO Country Name</th>\n",
       "      <th>City or Locality</th>\n",
       "      <th>Measurement Year</th>\n",
       "      <th>PM2.5 (μg/m3)</th>\n",
       "      <th>PM10 (μg/m3)</th>\n",
       "      <th>NO2 (μg/m3)</th>\n",
       "      <th>PM25 temporal coverage (%)</th>\n",
       "      <th>PM10 temporal coverage (%)</th>\n",
       "      <th>NO2 temporal coverage (%)</th>\n",
       "      <th>Reference</th>\n",
       "      <th>Number and type of monitoring stations</th>\n",
       "      <th>Version of the database</th>\n",
       "      <th>Status</th>\n",
       "    </tr>\n",
       "  </thead>\n",
       "  <tbody>\n",
       "    <tr>\n",
       "      <th>0</th>\n",
       "      <td>Eastern Mediterranean Region</td>\n",
       "      <td>AFG</td>\n",
       "      <td>Afghanistan</td>\n",
       "      <td>Kabul</td>\n",
       "      <td>2019</td>\n",
       "      <td>119.77</td>\n",
       "      <td>NaN</td>\n",
       "      <td>NaN</td>\n",
       "      <td>18.0</td>\n",
       "      <td>NaN</td>\n",
       "      <td>NaN</td>\n",
       "      <td>U.S. Department of State, United States Enviro...</td>\n",
       "      <td>NaN</td>\n",
       "      <td>2022</td>\n",
       "      <td>NaN</td>\n",
       "    </tr>\n",
       "    <tr>\n",
       "      <th>1</th>\n",
       "      <td>European Region</td>\n",
       "      <td>ALB</td>\n",
       "      <td>Albania</td>\n",
       "      <td>Durres</td>\n",
       "      <td>2015</td>\n",
       "      <td>NaN</td>\n",
       "      <td>17.65</td>\n",
       "      <td>26.63</td>\n",
       "      <td>NaN</td>\n",
       "      <td>NaN</td>\n",
       "      <td>83.961187</td>\n",
       "      <td>European Environment Agency (downloaded in 2021)</td>\n",
       "      <td>NaN</td>\n",
       "      <td>2022</td>\n",
       "      <td>NaN</td>\n",
       "    </tr>\n",
       "    <tr>\n",
       "      <th>2</th>\n",
       "      <td>European Region</td>\n",
       "      <td>ALB</td>\n",
       "      <td>Albania</td>\n",
       "      <td>Durres</td>\n",
       "      <td>2016</td>\n",
       "      <td>14.32</td>\n",
       "      <td>24.56</td>\n",
       "      <td>24.78</td>\n",
       "      <td>NaN</td>\n",
       "      <td>NaN</td>\n",
       "      <td>87.932605</td>\n",
       "      <td>European Environment Agency (downloaded in 2021)</td>\n",
       "      <td>NaN</td>\n",
       "      <td>2022</td>\n",
       "      <td>NaN</td>\n",
       "    </tr>\n",
       "    <tr>\n",
       "      <th>3</th>\n",
       "      <td>European Region</td>\n",
       "      <td>ALB</td>\n",
       "      <td>Albania</td>\n",
       "      <td>Elbasan</td>\n",
       "      <td>2015</td>\n",
       "      <td>NaN</td>\n",
       "      <td>NaN</td>\n",
       "      <td>23.96</td>\n",
       "      <td>NaN</td>\n",
       "      <td>NaN</td>\n",
       "      <td>97.853881</td>\n",
       "      <td>European Environment Agency (downloaded in 2021)</td>\n",
       "      <td>NaN</td>\n",
       "      <td>2022</td>\n",
       "      <td>NaN</td>\n",
       "    </tr>\n",
       "    <tr>\n",
       "      <th>4</th>\n",
       "      <td>European Region</td>\n",
       "      <td>ALB</td>\n",
       "      <td>Albania</td>\n",
       "      <td>Elbasan</td>\n",
       "      <td>2016</td>\n",
       "      <td>NaN</td>\n",
       "      <td>NaN</td>\n",
       "      <td>26.26</td>\n",
       "      <td>NaN</td>\n",
       "      <td>NaN</td>\n",
       "      <td>96.049636</td>\n",
       "      <td>European Environment Agency (downloaded in 2021)</td>\n",
       "      <td>NaN</td>\n",
       "      <td>2022</td>\n",
       "      <td>NaN</td>\n",
       "    </tr>\n",
       "  </tbody>\n",
       "</table>\n",
       "</div>"
      ],
      "text/plain": [
       "                     WHO Region ISO3 WHO Country Name City or Locality  \\\n",
       "0  Eastern Mediterranean Region  AFG      Afghanistan            Kabul   \n",
       "1               European Region  ALB          Albania           Durres   \n",
       "2               European Region  ALB          Albania           Durres   \n",
       "3               European Region  ALB          Albania          Elbasan   \n",
       "4               European Region  ALB          Albania          Elbasan   \n",
       "\n",
       "   Measurement Year  PM2.5 (μg/m3)  PM10 (μg/m3)  NO2 (μg/m3)  \\\n",
       "0              2019         119.77           NaN          NaN   \n",
       "1              2015            NaN         17.65        26.63   \n",
       "2              2016          14.32         24.56        24.78   \n",
       "3              2015            NaN           NaN        23.96   \n",
       "4              2016            NaN           NaN        26.26   \n",
       "\n",
       "   PM25 temporal coverage (%)  PM10 temporal coverage (%)  \\\n",
       "0                        18.0                         NaN   \n",
       "1                         NaN                         NaN   \n",
       "2                         NaN                         NaN   \n",
       "3                         NaN                         NaN   \n",
       "4                         NaN                         NaN   \n",
       "\n",
       "   NO2 temporal coverage (%)  \\\n",
       "0                        NaN   \n",
       "1                  83.961187   \n",
       "2                  87.932605   \n",
       "3                  97.853881   \n",
       "4                  96.049636   \n",
       "\n",
       "                                           Reference  \\\n",
       "0  U.S. Department of State, United States Enviro...   \n",
       "1   European Environment Agency (downloaded in 2021)   \n",
       "2   European Environment Agency (downloaded in 2021)   \n",
       "3   European Environment Agency (downloaded in 2021)   \n",
       "4   European Environment Agency (downloaded in 2021)   \n",
       "\n",
       "  Number and type of monitoring stations  Version of the database  Status  \n",
       "0                                    NaN                     2022     NaN  \n",
       "1                                    NaN                     2022     NaN  \n",
       "2                                    NaN                     2022     NaN  \n",
       "3                                    NaN                     2022     NaN  \n",
       "4                                    NaN                     2022     NaN  "
      ]
     },
     "execution_count": 4,
     "metadata": {},
     "output_type": "execute_result"
    }
   ],
   "source": [
    "df.head()  "
   ]
  },
  {
   "cell_type": "code",
   "execution_count": 5,
   "id": "6edf15db",
   "metadata": {},
   "outputs": [
    {
     "data": {
      "text/html": [
       "<div>\n",
       "<style scoped>\n",
       "    .dataframe tbody tr th:only-of-type {\n",
       "        vertical-align: middle;\n",
       "    }\n",
       "\n",
       "    .dataframe tbody tr th {\n",
       "        vertical-align: top;\n",
       "    }\n",
       "\n",
       "    .dataframe thead th {\n",
       "        text-align: right;\n",
       "    }\n",
       "</style>\n",
       "<table border=\"1\" class=\"dataframe\">\n",
       "  <thead>\n",
       "    <tr style=\"text-align: right;\">\n",
       "      <th></th>\n",
       "      <th>WHO Region</th>\n",
       "      <th>ISO3</th>\n",
       "      <th>WHO Country Name</th>\n",
       "      <th>City or Locality</th>\n",
       "      <th>Measurement Year</th>\n",
       "      <th>PM2.5 (μg/m3)</th>\n",
       "      <th>PM10 (μg/m3)</th>\n",
       "      <th>NO2 (μg/m3)</th>\n",
       "      <th>PM25 temporal coverage (%)</th>\n",
       "      <th>PM10 temporal coverage (%)</th>\n",
       "      <th>NO2 temporal coverage (%)</th>\n",
       "      <th>Reference</th>\n",
       "      <th>Number and type of monitoring stations</th>\n",
       "      <th>Version of the database</th>\n",
       "      <th>Status</th>\n",
       "    </tr>\n",
       "  </thead>\n",
       "  <tbody>\n",
       "    <tr>\n",
       "      <th>0</th>\n",
       "      <td>Eastern Mediterranean Region</td>\n",
       "      <td>AFG</td>\n",
       "      <td>Afghanistan</td>\n",
       "      <td>Kabul</td>\n",
       "      <td>2019</td>\n",
       "      <td>119.77</td>\n",
       "      <td>NaN</td>\n",
       "      <td>NaN</td>\n",
       "      <td>18.0</td>\n",
       "      <td>NaN</td>\n",
       "      <td>NaN</td>\n",
       "      <td>U.S. Department of State, United States Enviro...</td>\n",
       "      <td>NaN</td>\n",
       "      <td>2022</td>\n",
       "      <td>NaN</td>\n",
       "    </tr>\n",
       "    <tr>\n",
       "      <th>1</th>\n",
       "      <td>European Region</td>\n",
       "      <td>ALB</td>\n",
       "      <td>Albania</td>\n",
       "      <td>Durres</td>\n",
       "      <td>2015</td>\n",
       "      <td>NaN</td>\n",
       "      <td>17.65</td>\n",
       "      <td>26.63</td>\n",
       "      <td>NaN</td>\n",
       "      <td>NaN</td>\n",
       "      <td>83.961187</td>\n",
       "      <td>European Environment Agency (downloaded in 2021)</td>\n",
       "      <td>NaN</td>\n",
       "      <td>2022</td>\n",
       "      <td>NaN</td>\n",
       "    </tr>\n",
       "    <tr>\n",
       "      <th>2</th>\n",
       "      <td>European Region</td>\n",
       "      <td>ALB</td>\n",
       "      <td>Albania</td>\n",
       "      <td>Durres</td>\n",
       "      <td>2016</td>\n",
       "      <td>14.32</td>\n",
       "      <td>24.56</td>\n",
       "      <td>24.78</td>\n",
       "      <td>NaN</td>\n",
       "      <td>NaN</td>\n",
       "      <td>87.932605</td>\n",
       "      <td>European Environment Agency (downloaded in 2021)</td>\n",
       "      <td>NaN</td>\n",
       "      <td>2022</td>\n",
       "      <td>NaN</td>\n",
       "    </tr>\n",
       "    <tr>\n",
       "      <th>3</th>\n",
       "      <td>European Region</td>\n",
       "      <td>ALB</td>\n",
       "      <td>Albania</td>\n",
       "      <td>Elbasan</td>\n",
       "      <td>2015</td>\n",
       "      <td>NaN</td>\n",
       "      <td>NaN</td>\n",
       "      <td>23.96</td>\n",
       "      <td>NaN</td>\n",
       "      <td>NaN</td>\n",
       "      <td>97.853881</td>\n",
       "      <td>European Environment Agency (downloaded in 2021)</td>\n",
       "      <td>NaN</td>\n",
       "      <td>2022</td>\n",
       "      <td>NaN</td>\n",
       "    </tr>\n",
       "    <tr>\n",
       "      <th>4</th>\n",
       "      <td>European Region</td>\n",
       "      <td>ALB</td>\n",
       "      <td>Albania</td>\n",
       "      <td>Elbasan</td>\n",
       "      <td>2016</td>\n",
       "      <td>NaN</td>\n",
       "      <td>NaN</td>\n",
       "      <td>26.26</td>\n",
       "      <td>NaN</td>\n",
       "      <td>NaN</td>\n",
       "      <td>96.049636</td>\n",
       "      <td>European Environment Agency (downloaded in 2021)</td>\n",
       "      <td>NaN</td>\n",
       "      <td>2022</td>\n",
       "      <td>NaN</td>\n",
       "    </tr>\n",
       "    <tr>\n",
       "      <th>5</th>\n",
       "      <td>European Region</td>\n",
       "      <td>ALB</td>\n",
       "      <td>Albania</td>\n",
       "      <td>Elbasan</td>\n",
       "      <td>2017</td>\n",
       "      <td>NaN</td>\n",
       "      <td>NaN</td>\n",
       "      <td>24.70</td>\n",
       "      <td>NaN</td>\n",
       "      <td>NaN</td>\n",
       "      <td>89.292237</td>\n",
       "      <td>European Environment Agency (downloaded in 2021)</td>\n",
       "      <td>NaN</td>\n",
       "      <td>2022</td>\n",
       "      <td>NaN</td>\n",
       "    </tr>\n",
       "    <tr>\n",
       "      <th>6</th>\n",
       "      <td>European Region</td>\n",
       "      <td>ALB</td>\n",
       "      <td>Albania</td>\n",
       "      <td>Korce</td>\n",
       "      <td>2015</td>\n",
       "      <td>30.34</td>\n",
       "      <td>45.31</td>\n",
       "      <td>NaN</td>\n",
       "      <td>NaN</td>\n",
       "      <td>NaN</td>\n",
       "      <td>NaN</td>\n",
       "      <td>European Environment Agency (downloaded in 2021)</td>\n",
       "      <td>NaN</td>\n",
       "      <td>2022</td>\n",
       "      <td>NaN</td>\n",
       "    </tr>\n",
       "    <tr>\n",
       "      <th>7</th>\n",
       "      <td>European Region</td>\n",
       "      <td>ALB</td>\n",
       "      <td>Albania</td>\n",
       "      <td>Korce</td>\n",
       "      <td>2016</td>\n",
       "      <td>28.64</td>\n",
       "      <td>40.21</td>\n",
       "      <td>12.52</td>\n",
       "      <td>NaN</td>\n",
       "      <td>NaN</td>\n",
       "      <td>89.287341</td>\n",
       "      <td>European Environment Agency (downloaded in 2021)</td>\n",
       "      <td>NaN</td>\n",
       "      <td>2022</td>\n",
       "      <td>NaN</td>\n",
       "    </tr>\n",
       "    <tr>\n",
       "      <th>8</th>\n",
       "      <td>European Region</td>\n",
       "      <td>ALB</td>\n",
       "      <td>Albania</td>\n",
       "      <td>Vlore</td>\n",
       "      <td>2014</td>\n",
       "      <td>NaN</td>\n",
       "      <td>15.25</td>\n",
       "      <td>NaN</td>\n",
       "      <td>NaN</td>\n",
       "      <td>NaN</td>\n",
       "      <td>NaN</td>\n",
       "      <td>European Environment Agency (downloaded in 2021)</td>\n",
       "      <td>NaN</td>\n",
       "      <td>2022</td>\n",
       "      <td>NaN</td>\n",
       "    </tr>\n",
       "    <tr>\n",
       "      <th>9</th>\n",
       "      <td>European Region</td>\n",
       "      <td>ALB</td>\n",
       "      <td>Albania</td>\n",
       "      <td>Vlore</td>\n",
       "      <td>2015</td>\n",
       "      <td>NaN</td>\n",
       "      <td>19.39</td>\n",
       "      <td>14.18</td>\n",
       "      <td>NaN</td>\n",
       "      <td>NaN</td>\n",
       "      <td>78.470320</td>\n",
       "      <td>European Environment Agency (downloaded in 2021)</td>\n",
       "      <td>NaN</td>\n",
       "      <td>2022</td>\n",
       "      <td>NaN</td>\n",
       "    </tr>\n",
       "  </tbody>\n",
       "</table>\n",
       "</div>"
      ],
      "text/plain": [
       "                     WHO Region ISO3 WHO Country Name City or Locality  \\\n",
       "0  Eastern Mediterranean Region  AFG      Afghanistan            Kabul   \n",
       "1               European Region  ALB          Albania           Durres   \n",
       "2               European Region  ALB          Albania           Durres   \n",
       "3               European Region  ALB          Albania          Elbasan   \n",
       "4               European Region  ALB          Albania          Elbasan   \n",
       "5               European Region  ALB          Albania          Elbasan   \n",
       "6               European Region  ALB          Albania            Korce   \n",
       "7               European Region  ALB          Albania            Korce   \n",
       "8               European Region  ALB          Albania            Vlore   \n",
       "9               European Region  ALB          Albania            Vlore   \n",
       "\n",
       "   Measurement Year  PM2.5 (μg/m3)  PM10 (μg/m3)  NO2 (μg/m3)  \\\n",
       "0              2019         119.77           NaN          NaN   \n",
       "1              2015            NaN         17.65        26.63   \n",
       "2              2016          14.32         24.56        24.78   \n",
       "3              2015            NaN           NaN        23.96   \n",
       "4              2016            NaN           NaN        26.26   \n",
       "5              2017            NaN           NaN        24.70   \n",
       "6              2015          30.34         45.31          NaN   \n",
       "7              2016          28.64         40.21        12.52   \n",
       "8              2014            NaN         15.25          NaN   \n",
       "9              2015            NaN         19.39        14.18   \n",
       "\n",
       "   PM25 temporal coverage (%)  PM10 temporal coverage (%)  \\\n",
       "0                        18.0                         NaN   \n",
       "1                         NaN                         NaN   \n",
       "2                         NaN                         NaN   \n",
       "3                         NaN                         NaN   \n",
       "4                         NaN                         NaN   \n",
       "5                         NaN                         NaN   \n",
       "6                         NaN                         NaN   \n",
       "7                         NaN                         NaN   \n",
       "8                         NaN                         NaN   \n",
       "9                         NaN                         NaN   \n",
       "\n",
       "   NO2 temporal coverage (%)  \\\n",
       "0                        NaN   \n",
       "1                  83.961187   \n",
       "2                  87.932605   \n",
       "3                  97.853881   \n",
       "4                  96.049636   \n",
       "5                  89.292237   \n",
       "6                        NaN   \n",
       "7                  89.287341   \n",
       "8                        NaN   \n",
       "9                  78.470320   \n",
       "\n",
       "                                           Reference  \\\n",
       "0  U.S. Department of State, United States Enviro...   \n",
       "1   European Environment Agency (downloaded in 2021)   \n",
       "2   European Environment Agency (downloaded in 2021)   \n",
       "3   European Environment Agency (downloaded in 2021)   \n",
       "4   European Environment Agency (downloaded in 2021)   \n",
       "5   European Environment Agency (downloaded in 2021)   \n",
       "6   European Environment Agency (downloaded in 2021)   \n",
       "7   European Environment Agency (downloaded in 2021)   \n",
       "8   European Environment Agency (downloaded in 2021)   \n",
       "9   European Environment Agency (downloaded in 2021)   \n",
       "\n",
       "  Number and type of monitoring stations  Version of the database  Status  \n",
       "0                                    NaN                     2022     NaN  \n",
       "1                                    NaN                     2022     NaN  \n",
       "2                                    NaN                     2022     NaN  \n",
       "3                                    NaN                     2022     NaN  \n",
       "4                                    NaN                     2022     NaN  \n",
       "5                                    NaN                     2022     NaN  \n",
       "6                                    NaN                     2022     NaN  \n",
       "7                                    NaN                     2022     NaN  \n",
       "8                                    NaN                     2022     NaN  \n",
       "9                                    NaN                     2022     NaN  "
      ]
     },
     "execution_count": 5,
     "metadata": {},
     "output_type": "execute_result"
    }
   ],
   "source": [
    "df.head(10)    # You can specify"
   ]
  },
  {
   "cell_type": "code",
   "execution_count": 6,
   "id": "5b1d2685",
   "metadata": {},
   "outputs": [
    {
     "data": {
      "text/plain": [
       "(32191, 15)"
      ]
     },
     "execution_count": 6,
     "metadata": {},
     "output_type": "execute_result"
    }
   ],
   "source": [
    "df.shape "
   ]
  },
  {
   "cell_type": "code",
   "execution_count": 7,
   "id": "34303cb3",
   "metadata": {},
   "outputs": [
    {
     "data": {
      "text/plain": [
       "WHO Region                                 object\n",
       "ISO3                                       object\n",
       "WHO Country Name                           object\n",
       "City or Locality                           object\n",
       "Measurement Year                            int64\n",
       "PM2.5 (μg/m3)                             float64\n",
       "PM10 (μg/m3)                              float64\n",
       "NO2 (μg/m3)                               float64\n",
       "PM25 temporal coverage (%)                float64\n",
       "PM10 temporal coverage (%)                float64\n",
       "NO2 temporal coverage (%)                 float64\n",
       "Reference                                  object\n",
       "Number and type of monitoring stations     object\n",
       "Version of the database                     int64\n",
       "Status                                    float64\n",
       "dtype: object"
      ]
     },
     "execution_count": 7,
     "metadata": {},
     "output_type": "execute_result"
    }
   ],
   "source": [
    "df.dtypes"
   ]
  },
  {
   "cell_type": "code",
   "execution_count": 8,
   "id": "1534366d",
   "metadata": {},
   "outputs": [
    {
     "data": {
      "text/plain": [
       "Index(['WHO Region', 'ISO3', 'WHO Country Name', 'City or Locality',\n",
       "       'Measurement Year', 'PM2.5 (μg/m3)', 'PM10 (μg/m3)', 'NO2 (μg/m3)',\n",
       "       'PM25 temporal coverage (%)', 'PM10 temporal coverage (%)',\n",
       "       'NO2 temporal coverage (%)', 'Reference',\n",
       "       'Number and type of monitoring stations', 'Version of the database',\n",
       "       'Status'],\n",
       "      dtype='object')"
      ]
     },
     "execution_count": 8,
     "metadata": {},
     "output_type": "execute_result"
    }
   ],
   "source": [
    "df.columns"
   ]
  },
  {
   "cell_type": "code",
   "execution_count": 9,
   "id": "28292871",
   "metadata": {},
   "outputs": [
    {
     "data": {
      "text/html": [
       "<div>\n",
       "<style scoped>\n",
       "    .dataframe tbody tr th:only-of-type {\n",
       "        vertical-align: middle;\n",
       "    }\n",
       "\n",
       "    .dataframe tbody tr th {\n",
       "        vertical-align: top;\n",
       "    }\n",
       "\n",
       "    .dataframe thead th {\n",
       "        text-align: right;\n",
       "    }\n",
       "</style>\n",
       "<table border=\"1\" class=\"dataframe\">\n",
       "  <thead>\n",
       "    <tr style=\"text-align: right;\">\n",
       "      <th></th>\n",
       "      <th>Measurement Year</th>\n",
       "      <th>PM2.5 (μg/m3)</th>\n",
       "      <th>PM10 (μg/m3)</th>\n",
       "      <th>NO2 (μg/m3)</th>\n",
       "      <th>PM25 temporal coverage (%)</th>\n",
       "      <th>PM10 temporal coverage (%)</th>\n",
       "      <th>NO2 temporal coverage (%)</th>\n",
       "      <th>Version of the database</th>\n",
       "      <th>Status</th>\n",
       "    </tr>\n",
       "  </thead>\n",
       "  <tbody>\n",
       "    <tr>\n",
       "      <th>count</th>\n",
       "      <td>32191.000000</td>\n",
       "      <td>15048.000000</td>\n",
       "      <td>21109.000000</td>\n",
       "      <td>22200.000000</td>\n",
       "      <td>7275.000000</td>\n",
       "      <td>5381.000000</td>\n",
       "      <td>19890.000000</td>\n",
       "      <td>32191.000000</td>\n",
       "      <td>0.0</td>\n",
       "    </tr>\n",
       "    <tr>\n",
       "      <th>mean</th>\n",
       "      <td>2015.579354</td>\n",
       "      <td>22.920320</td>\n",
       "      <td>30.533252</td>\n",
       "      <td>20.619336</td>\n",
       "      <td>90.794096</td>\n",
       "      <td>90.583500</td>\n",
       "      <td>93.696804</td>\n",
       "      <td>2021.744214</td>\n",
       "      <td>NaN</td>\n",
       "    </tr>\n",
       "    <tr>\n",
       "      <th>std</th>\n",
       "      <td>2.752654</td>\n",
       "      <td>17.925906</td>\n",
       "      <td>29.312756</td>\n",
       "      <td>12.133388</td>\n",
       "      <td>14.872681</td>\n",
       "      <td>13.816311</td>\n",
       "      <td>10.451751</td>\n",
       "      <td>1.051897</td>\n",
       "      <td>NaN</td>\n",
       "    </tr>\n",
       "    <tr>\n",
       "      <th>min</th>\n",
       "      <td>2000.000000</td>\n",
       "      <td>0.010000</td>\n",
       "      <td>1.040000</td>\n",
       "      <td>0.000000</td>\n",
       "      <td>0.000000</td>\n",
       "      <td>2.568493</td>\n",
       "      <td>1.923077</td>\n",
       "      <td>2016.000000</td>\n",
       "      <td>NaN</td>\n",
       "    </tr>\n",
       "    <tr>\n",
       "      <th>25%</th>\n",
       "      <td>2014.000000</td>\n",
       "      <td>10.350000</td>\n",
       "      <td>16.980000</td>\n",
       "      <td>12.000000</td>\n",
       "      <td>88.595890</td>\n",
       "      <td>87.945205</td>\n",
       "      <td>93.207763</td>\n",
       "      <td>2022.000000</td>\n",
       "      <td>NaN</td>\n",
       "    </tr>\n",
       "    <tr>\n",
       "      <th>50%</th>\n",
       "      <td>2016.000000</td>\n",
       "      <td>16.000000</td>\n",
       "      <td>22.000000</td>\n",
       "      <td>18.800000</td>\n",
       "      <td>97.000000</td>\n",
       "      <td>96.039000</td>\n",
       "      <td>96.369863</td>\n",
       "      <td>2022.000000</td>\n",
       "      <td>NaN</td>\n",
       "    </tr>\n",
       "    <tr>\n",
       "      <th>75%</th>\n",
       "      <td>2018.000000</td>\n",
       "      <td>31.000000</td>\n",
       "      <td>31.300000</td>\n",
       "      <td>27.160000</td>\n",
       "      <td>99.000000</td>\n",
       "      <td>98.938000</td>\n",
       "      <td>98.926941</td>\n",
       "      <td>2022.000000</td>\n",
       "      <td>NaN</td>\n",
       "    </tr>\n",
       "    <tr>\n",
       "      <th>max</th>\n",
       "      <td>2021.000000</td>\n",
       "      <td>191.900000</td>\n",
       "      <td>540.000000</td>\n",
       "      <td>210.680000</td>\n",
       "      <td>100.000000</td>\n",
       "      <td>100.000000</td>\n",
       "      <td>100.000000</td>\n",
       "      <td>2022.000000</td>\n",
       "      <td>NaN</td>\n",
       "    </tr>\n",
       "  </tbody>\n",
       "</table>\n",
       "</div>"
      ],
      "text/plain": [
       "       Measurement Year  PM2.5 (μg/m3)  PM10 (μg/m3)   NO2 (μg/m3)  \\\n",
       "count      32191.000000   15048.000000  21109.000000  22200.000000   \n",
       "mean        2015.579354      22.920320     30.533252     20.619336   \n",
       "std            2.752654      17.925906     29.312756     12.133388   \n",
       "min         2000.000000       0.010000      1.040000      0.000000   \n",
       "25%         2014.000000      10.350000     16.980000     12.000000   \n",
       "50%         2016.000000      16.000000     22.000000     18.800000   \n",
       "75%         2018.000000      31.000000     31.300000     27.160000   \n",
       "max         2021.000000     191.900000    540.000000    210.680000   \n",
       "\n",
       "       PM25 temporal coverage (%)  PM10 temporal coverage (%)  \\\n",
       "count                 7275.000000                 5381.000000   \n",
       "mean                    90.794096                   90.583500   \n",
       "std                     14.872681                   13.816311   \n",
       "min                      0.000000                    2.568493   \n",
       "25%                     88.595890                   87.945205   \n",
       "50%                     97.000000                   96.039000   \n",
       "75%                     99.000000                   98.938000   \n",
       "max                    100.000000                  100.000000   \n",
       "\n",
       "       NO2 temporal coverage (%)  Version of the database  Status  \n",
       "count               19890.000000             32191.000000     0.0  \n",
       "mean                   93.696804              2021.744214     NaN  \n",
       "std                    10.451751                 1.051897     NaN  \n",
       "min                     1.923077              2016.000000     NaN  \n",
       "25%                    93.207763              2022.000000     NaN  \n",
       "50%                    96.369863              2022.000000     NaN  \n",
       "75%                    98.926941              2022.000000     NaN  \n",
       "max                   100.000000              2022.000000     NaN  "
      ]
     },
     "execution_count": 9,
     "metadata": {},
     "output_type": "execute_result"
    }
   ],
   "source": [
    "df.describe()"
   ]
  },
  {
   "cell_type": "code",
   "execution_count": 10,
   "id": "a691863d",
   "metadata": {},
   "outputs": [
    {
     "data": {
      "text/plain": [
       "WHO Region\n",
       "European Region                 20292\n",
       "Western Pacific Region           4798\n",
       "Region of the Americas           3957\n",
       "South East Asia Region           2514\n",
       "Eastern Mediterranean Region      438\n",
       "African Region                    191\n",
       "dtype: int64"
      ]
     },
     "execution_count": 10,
     "metadata": {},
     "output_type": "execute_result"
    }
   ],
   "source": [
    "data.groupby('WHO Region').size().sort_values(ascending=False)"
   ]
  },
  {
   "cell_type": "code",
   "execution_count": 11,
   "id": "69cbcbd3",
   "metadata": {},
   "outputs": [
    {
     "data": {
      "text/plain": [
       "0        119.77\n",
       "1           NaN\n",
       "2         14.32\n",
       "3           NaN\n",
       "4           NaN\n",
       "          ...  \n",
       "32186      7.47\n",
       "32187      8.42\n",
       "32188      6.83\n",
       "32189      6.10\n",
       "32190       NaN\n",
       "Name: PM2.5 (μg/m3), Length: 32191, dtype: float64"
      ]
     },
     "execution_count": 11,
     "metadata": {},
     "output_type": "execute_result"
    }
   ],
   "source": [
    "df[\"PM2.5 (μg/m3)\"]"
   ]
  },
  {
   "cell_type": "code",
   "execution_count": 12,
   "id": "7fae3a13",
   "metadata": {},
   "outputs": [
    {
     "data": {
      "text/html": [
       "<div>\n",
       "<style scoped>\n",
       "    .dataframe tbody tr th:only-of-type {\n",
       "        vertical-align: middle;\n",
       "    }\n",
       "\n",
       "    .dataframe tbody tr th {\n",
       "        vertical-align: top;\n",
       "    }\n",
       "\n",
       "    .dataframe thead th {\n",
       "        text-align: right;\n",
       "    }\n",
       "</style>\n",
       "<table border=\"1\" class=\"dataframe\">\n",
       "  <thead>\n",
       "    <tr style=\"text-align: right;\">\n",
       "      <th></th>\n",
       "      <th>WHO Region</th>\n",
       "      <th>ISO3</th>\n",
       "      <th>WHO Country Name</th>\n",
       "      <th>City or Locality</th>\n",
       "      <th>Measurement Year</th>\n",
       "      <th>PM2.5 (μg/m3)</th>\n",
       "      <th>PM10 (μg/m3)</th>\n",
       "      <th>NO2 (μg/m3)</th>\n",
       "      <th>PM25 temporal coverage (%)</th>\n",
       "      <th>PM10 temporal coverage (%)</th>\n",
       "      <th>NO2 temporal coverage (%)</th>\n",
       "      <th>Reference</th>\n",
       "      <th>Number and type of monitoring stations</th>\n",
       "      <th>Version of the database</th>\n",
       "      <th>Status</th>\n",
       "    </tr>\n",
       "  </thead>\n",
       "  <tbody>\n",
       "    <tr>\n",
       "      <th>0</th>\n",
       "      <td>False</td>\n",
       "      <td>False</td>\n",
       "      <td>False</td>\n",
       "      <td>False</td>\n",
       "      <td>False</td>\n",
       "      <td>False</td>\n",
       "      <td>True</td>\n",
       "      <td>True</td>\n",
       "      <td>False</td>\n",
       "      <td>True</td>\n",
       "      <td>True</td>\n",
       "      <td>False</td>\n",
       "      <td>True</td>\n",
       "      <td>False</td>\n",
       "      <td>True</td>\n",
       "    </tr>\n",
       "    <tr>\n",
       "      <th>1</th>\n",
       "      <td>False</td>\n",
       "      <td>False</td>\n",
       "      <td>False</td>\n",
       "      <td>False</td>\n",
       "      <td>False</td>\n",
       "      <td>True</td>\n",
       "      <td>False</td>\n",
       "      <td>False</td>\n",
       "      <td>True</td>\n",
       "      <td>True</td>\n",
       "      <td>False</td>\n",
       "      <td>False</td>\n",
       "      <td>True</td>\n",
       "      <td>False</td>\n",
       "      <td>True</td>\n",
       "    </tr>\n",
       "    <tr>\n",
       "      <th>2</th>\n",
       "      <td>False</td>\n",
       "      <td>False</td>\n",
       "      <td>False</td>\n",
       "      <td>False</td>\n",
       "      <td>False</td>\n",
       "      <td>False</td>\n",
       "      <td>False</td>\n",
       "      <td>False</td>\n",
       "      <td>True</td>\n",
       "      <td>True</td>\n",
       "      <td>False</td>\n",
       "      <td>False</td>\n",
       "      <td>True</td>\n",
       "      <td>False</td>\n",
       "      <td>True</td>\n",
       "    </tr>\n",
       "    <tr>\n",
       "      <th>3</th>\n",
       "      <td>False</td>\n",
       "      <td>False</td>\n",
       "      <td>False</td>\n",
       "      <td>False</td>\n",
       "      <td>False</td>\n",
       "      <td>True</td>\n",
       "      <td>True</td>\n",
       "      <td>False</td>\n",
       "      <td>True</td>\n",
       "      <td>True</td>\n",
       "      <td>False</td>\n",
       "      <td>False</td>\n",
       "      <td>True</td>\n",
       "      <td>False</td>\n",
       "      <td>True</td>\n",
       "    </tr>\n",
       "    <tr>\n",
       "      <th>4</th>\n",
       "      <td>False</td>\n",
       "      <td>False</td>\n",
       "      <td>False</td>\n",
       "      <td>False</td>\n",
       "      <td>False</td>\n",
       "      <td>True</td>\n",
       "      <td>True</td>\n",
       "      <td>False</td>\n",
       "      <td>True</td>\n",
       "      <td>True</td>\n",
       "      <td>False</td>\n",
       "      <td>False</td>\n",
       "      <td>True</td>\n",
       "      <td>False</td>\n",
       "      <td>True</td>\n",
       "    </tr>\n",
       "    <tr>\n",
       "      <th>...</th>\n",
       "      <td>...</td>\n",
       "      <td>...</td>\n",
       "      <td>...</td>\n",
       "      <td>...</td>\n",
       "      <td>...</td>\n",
       "      <td>...</td>\n",
       "      <td>...</td>\n",
       "      <td>...</td>\n",
       "      <td>...</td>\n",
       "      <td>...</td>\n",
       "      <td>...</td>\n",
       "      <td>...</td>\n",
       "      <td>...</td>\n",
       "      <td>...</td>\n",
       "      <td>...</td>\n",
       "    </tr>\n",
       "    <tr>\n",
       "      <th>32186</th>\n",
       "      <td>False</td>\n",
       "      <td>False</td>\n",
       "      <td>False</td>\n",
       "      <td>False</td>\n",
       "      <td>False</td>\n",
       "      <td>False</td>\n",
       "      <td>False</td>\n",
       "      <td>False</td>\n",
       "      <td>False</td>\n",
       "      <td>False</td>\n",
       "      <td>False</td>\n",
       "      <td>False</td>\n",
       "      <td>False</td>\n",
       "      <td>False</td>\n",
       "      <td>True</td>\n",
       "    </tr>\n",
       "    <tr>\n",
       "      <th>32187</th>\n",
       "      <td>False</td>\n",
       "      <td>False</td>\n",
       "      <td>False</td>\n",
       "      <td>False</td>\n",
       "      <td>False</td>\n",
       "      <td>False</td>\n",
       "      <td>False</td>\n",
       "      <td>False</td>\n",
       "      <td>False</td>\n",
       "      <td>False</td>\n",
       "      <td>False</td>\n",
       "      <td>False</td>\n",
       "      <td>False</td>\n",
       "      <td>False</td>\n",
       "      <td>True</td>\n",
       "    </tr>\n",
       "    <tr>\n",
       "      <th>32188</th>\n",
       "      <td>False</td>\n",
       "      <td>False</td>\n",
       "      <td>False</td>\n",
       "      <td>False</td>\n",
       "      <td>False</td>\n",
       "      <td>False</td>\n",
       "      <td>False</td>\n",
       "      <td>False</td>\n",
       "      <td>False</td>\n",
       "      <td>False</td>\n",
       "      <td>False</td>\n",
       "      <td>False</td>\n",
       "      <td>False</td>\n",
       "      <td>False</td>\n",
       "      <td>True</td>\n",
       "    </tr>\n",
       "    <tr>\n",
       "      <th>32189</th>\n",
       "      <td>False</td>\n",
       "      <td>False</td>\n",
       "      <td>False</td>\n",
       "      <td>False</td>\n",
       "      <td>False</td>\n",
       "      <td>False</td>\n",
       "      <td>False</td>\n",
       "      <td>False</td>\n",
       "      <td>False</td>\n",
       "      <td>False</td>\n",
       "      <td>False</td>\n",
       "      <td>False</td>\n",
       "      <td>False</td>\n",
       "      <td>False</td>\n",
       "      <td>True</td>\n",
       "    </tr>\n",
       "    <tr>\n",
       "      <th>32190</th>\n",
       "      <td>False</td>\n",
       "      <td>False</td>\n",
       "      <td>False</td>\n",
       "      <td>False</td>\n",
       "      <td>False</td>\n",
       "      <td>True</td>\n",
       "      <td>True</td>\n",
       "      <td>False</td>\n",
       "      <td>True</td>\n",
       "      <td>True</td>\n",
       "      <td>False</td>\n",
       "      <td>False</td>\n",
       "      <td>False</td>\n",
       "      <td>False</td>\n",
       "      <td>True</td>\n",
       "    </tr>\n",
       "  </tbody>\n",
       "</table>\n",
       "<p>32191 rows × 15 columns</p>\n",
       "</div>"
      ],
      "text/plain": [
       "       WHO Region   ISO3  WHO Country Name  City or Locality  \\\n",
       "0           False  False             False             False   \n",
       "1           False  False             False             False   \n",
       "2           False  False             False             False   \n",
       "3           False  False             False             False   \n",
       "4           False  False             False             False   \n",
       "...           ...    ...               ...               ...   \n",
       "32186       False  False             False             False   \n",
       "32187       False  False             False             False   \n",
       "32188       False  False             False             False   \n",
       "32189       False  False             False             False   \n",
       "32190       False  False             False             False   \n",
       "\n",
       "       Measurement Year  PM2.5 (μg/m3)  PM10 (μg/m3)  NO2 (μg/m3)  \\\n",
       "0                 False          False          True         True   \n",
       "1                 False           True         False        False   \n",
       "2                 False          False         False        False   \n",
       "3                 False           True          True        False   \n",
       "4                 False           True          True        False   \n",
       "...                 ...            ...           ...          ...   \n",
       "32186             False          False         False        False   \n",
       "32187             False          False         False        False   \n",
       "32188             False          False         False        False   \n",
       "32189             False          False         False        False   \n",
       "32190             False           True          True        False   \n",
       "\n",
       "       PM25 temporal coverage (%)  PM10 temporal coverage (%)  \\\n",
       "0                           False                        True   \n",
       "1                            True                        True   \n",
       "2                            True                        True   \n",
       "3                            True                        True   \n",
       "4                            True                        True   \n",
       "...                           ...                         ...   \n",
       "32186                       False                       False   \n",
       "32187                       False                       False   \n",
       "32188                       False                       False   \n",
       "32189                       False                       False   \n",
       "32190                        True                        True   \n",
       "\n",
       "       NO2 temporal coverage (%)  Reference  \\\n",
       "0                           True      False   \n",
       "1                          False      False   \n",
       "2                          False      False   \n",
       "3                          False      False   \n",
       "4                          False      False   \n",
       "...                          ...        ...   \n",
       "32186                      False      False   \n",
       "32187                      False      False   \n",
       "32188                      False      False   \n",
       "32189                      False      False   \n",
       "32190                      False      False   \n",
       "\n",
       "       Number and type of monitoring stations  Version of the database  Status  \n",
       "0                                        True                    False    True  \n",
       "1                                        True                    False    True  \n",
       "2                                        True                    False    True  \n",
       "3                                        True                    False    True  \n",
       "4                                        True                    False    True  \n",
       "...                                       ...                      ...     ...  \n",
       "32186                                   False                    False    True  \n",
       "32187                                   False                    False    True  \n",
       "32188                                   False                    False    True  \n",
       "32189                                   False                    False    True  \n",
       "32190                                   False                    False    True  \n",
       "\n",
       "[32191 rows x 15 columns]"
      ]
     },
     "execution_count": 12,
     "metadata": {},
     "output_type": "execute_result"
    }
   ],
   "source": [
    "df.isnull()"
   ]
  },
  {
   "cell_type": "code",
   "execution_count": 13,
   "id": "958b7a8d",
   "metadata": {},
   "outputs": [
    {
     "data": {
      "text/plain": [
       "WHO Region                                    1\n",
       "ISO3                                          0\n",
       "WHO Country Name                              0\n",
       "City or Locality                              0\n",
       "Measurement Year                              0\n",
       "PM2.5 (μg/m3)                             17143\n",
       "PM10 (μg/m3)                              11082\n",
       "NO2 (μg/m3)                                9991\n",
       "PM25 temporal coverage (%)                24916\n",
       "PM10 temporal coverage (%)                26810\n",
       "NO2 temporal coverage (%)                 12301\n",
       "Reference                                     5\n",
       "Number and type of monitoring stations    23433\n",
       "Version of the database                       0\n",
       "Status                                    32191\n",
       "dtype: int64"
      ]
     },
     "execution_count": 13,
     "metadata": {},
     "output_type": "execute_result"
    }
   ],
   "source": [
    "df.isnull().sum() "
   ]
  },
  {
   "cell_type": "markdown",
   "id": "83c8bc8b",
   "metadata": {},
   "source": [
    "## Cleaning of data"
   ]
  },
  {
   "cell_type": "code",
   "execution_count": 14,
   "id": "fc388c9e",
   "metadata": {},
   "outputs": [
    {
     "data": {
      "text/html": [
       "<div>\n",
       "<style scoped>\n",
       "    .dataframe tbody tr th:only-of-type {\n",
       "        vertical-align: middle;\n",
       "    }\n",
       "\n",
       "    .dataframe tbody tr th {\n",
       "        vertical-align: top;\n",
       "    }\n",
       "\n",
       "    .dataframe thead th {\n",
       "        text-align: right;\n",
       "    }\n",
       "</style>\n",
       "<table border=\"1\" class=\"dataframe\">\n",
       "  <thead>\n",
       "    <tr style=\"text-align: right;\">\n",
       "      <th></th>\n",
       "      <th>WHO Region</th>\n",
       "      <th>ISO3</th>\n",
       "      <th>WHO Country Name</th>\n",
       "      <th>City or Locality</th>\n",
       "      <th>Measurement Year</th>\n",
       "      <th>PM2.5 (μg/m3)</th>\n",
       "      <th>PM10 (μg/m3)</th>\n",
       "      <th>NO2 (μg/m3)</th>\n",
       "      <th>PM25 temporal coverage (%)</th>\n",
       "      <th>PM10 temporal coverage (%)</th>\n",
       "      <th>NO2 temporal coverage (%)</th>\n",
       "      <th>Reference</th>\n",
       "      <th>Number and type of monitoring stations</th>\n",
       "      <th>Version of the database</th>\n",
       "      <th>Status</th>\n",
       "    </tr>\n",
       "  </thead>\n",
       "  <tbody>\n",
       "    <tr>\n",
       "      <th>0</th>\n",
       "      <td>Eastern Mediterranean Region</td>\n",
       "      <td>AFG</td>\n",
       "      <td>Afghanistan</td>\n",
       "      <td>Kabul</td>\n",
       "      <td>2019</td>\n",
       "      <td>119.77</td>\n",
       "      <td>NaN</td>\n",
       "      <td>NaN</td>\n",
       "      <td>18.0</td>\n",
       "      <td>NaN</td>\n",
       "      <td>NaN</td>\n",
       "      <td>U.S. Department of State, United States Enviro...</td>\n",
       "      <td>NaN</td>\n",
       "      <td>2022</td>\n",
       "      <td>NaN</td>\n",
       "    </tr>\n",
       "    <tr>\n",
       "      <th>1</th>\n",
       "      <td>European Region</td>\n",
       "      <td>ALB</td>\n",
       "      <td>Albania</td>\n",
       "      <td>Durres</td>\n",
       "      <td>2015</td>\n",
       "      <td>NaN</td>\n",
       "      <td>17.65</td>\n",
       "      <td>26.63</td>\n",
       "      <td>NaN</td>\n",
       "      <td>NaN</td>\n",
       "      <td>83.961187</td>\n",
       "      <td>European Environment Agency (downloaded in 2021)</td>\n",
       "      <td>NaN</td>\n",
       "      <td>2022</td>\n",
       "      <td>NaN</td>\n",
       "    </tr>\n",
       "    <tr>\n",
       "      <th>2</th>\n",
       "      <td>European Region</td>\n",
       "      <td>ALB</td>\n",
       "      <td>Albania</td>\n",
       "      <td>Durres</td>\n",
       "      <td>2016</td>\n",
       "      <td>14.32</td>\n",
       "      <td>24.56</td>\n",
       "      <td>24.78</td>\n",
       "      <td>NaN</td>\n",
       "      <td>NaN</td>\n",
       "      <td>87.932605</td>\n",
       "      <td>European Environment Agency (downloaded in 2021)</td>\n",
       "      <td>NaN</td>\n",
       "      <td>2022</td>\n",
       "      <td>NaN</td>\n",
       "    </tr>\n",
       "    <tr>\n",
       "      <th>3</th>\n",
       "      <td>European Region</td>\n",
       "      <td>ALB</td>\n",
       "      <td>Albania</td>\n",
       "      <td>Elbasan</td>\n",
       "      <td>2015</td>\n",
       "      <td>NaN</td>\n",
       "      <td>NaN</td>\n",
       "      <td>23.96</td>\n",
       "      <td>NaN</td>\n",
       "      <td>NaN</td>\n",
       "      <td>97.853881</td>\n",
       "      <td>European Environment Agency (downloaded in 2021)</td>\n",
       "      <td>NaN</td>\n",
       "      <td>2022</td>\n",
       "      <td>NaN</td>\n",
       "    </tr>\n",
       "    <tr>\n",
       "      <th>4</th>\n",
       "      <td>European Region</td>\n",
       "      <td>ALB</td>\n",
       "      <td>Albania</td>\n",
       "      <td>Elbasan</td>\n",
       "      <td>2016</td>\n",
       "      <td>NaN</td>\n",
       "      <td>NaN</td>\n",
       "      <td>26.26</td>\n",
       "      <td>NaN</td>\n",
       "      <td>NaN</td>\n",
       "      <td>96.049636</td>\n",
       "      <td>European Environment Agency (downloaded in 2021)</td>\n",
       "      <td>NaN</td>\n",
       "      <td>2022</td>\n",
       "      <td>NaN</td>\n",
       "    </tr>\n",
       "  </tbody>\n",
       "</table>\n",
       "</div>"
      ],
      "text/plain": [
       "                     WHO Region ISO3 WHO Country Name City or Locality  \\\n",
       "0  Eastern Mediterranean Region  AFG      Afghanistan            Kabul   \n",
       "1               European Region  ALB          Albania           Durres   \n",
       "2               European Region  ALB          Albania           Durres   \n",
       "3               European Region  ALB          Albania          Elbasan   \n",
       "4               European Region  ALB          Albania          Elbasan   \n",
       "\n",
       "   Measurement Year  PM2.5 (μg/m3)  PM10 (μg/m3)  NO2 (μg/m3)  \\\n",
       "0              2019         119.77           NaN          NaN   \n",
       "1              2015            NaN         17.65        26.63   \n",
       "2              2016          14.32         24.56        24.78   \n",
       "3              2015            NaN           NaN        23.96   \n",
       "4              2016            NaN           NaN        26.26   \n",
       "\n",
       "   PM25 temporal coverage (%)  PM10 temporal coverage (%)  \\\n",
       "0                        18.0                         NaN   \n",
       "1                         NaN                         NaN   \n",
       "2                         NaN                         NaN   \n",
       "3                         NaN                         NaN   \n",
       "4                         NaN                         NaN   \n",
       "\n",
       "   NO2 temporal coverage (%)  \\\n",
       "0                        NaN   \n",
       "1                  83.961187   \n",
       "2                  87.932605   \n",
       "3                  97.853881   \n",
       "4                  96.049636   \n",
       "\n",
       "                                           Reference  \\\n",
       "0  U.S. Department of State, United States Enviro...   \n",
       "1   European Environment Agency (downloaded in 2021)   \n",
       "2   European Environment Agency (downloaded in 2021)   \n",
       "3   European Environment Agency (downloaded in 2021)   \n",
       "4   European Environment Agency (downloaded in 2021)   \n",
       "\n",
       "  Number and type of monitoring stations  Version of the database  Status  \n",
       "0                                    NaN                     2022     NaN  \n",
       "1                                    NaN                     2022     NaN  \n",
       "2                                    NaN                     2022     NaN  \n",
       "3                                    NaN                     2022     NaN  \n",
       "4                                    NaN                     2022     NaN  "
      ]
     },
     "execution_count": 14,
     "metadata": {},
     "output_type": "execute_result"
    }
   ],
   "source": [
    "df.drop(14)\n",
    "df.head() "
   ]
  },
  {
   "cell_type": "code",
   "execution_count": 15,
   "id": "3c298ea8",
   "metadata": {},
   "outputs": [
    {
     "data": {
      "text/html": [
       "<div>\n",
       "<style scoped>\n",
       "    .dataframe tbody tr th:only-of-type {\n",
       "        vertical-align: middle;\n",
       "    }\n",
       "\n",
       "    .dataframe tbody tr th {\n",
       "        vertical-align: top;\n",
       "    }\n",
       "\n",
       "    .dataframe thead th {\n",
       "        text-align: right;\n",
       "    }\n",
       "</style>\n",
       "<table border=\"1\" class=\"dataframe\">\n",
       "  <thead>\n",
       "    <tr style=\"text-align: right;\">\n",
       "      <th></th>\n",
       "      <th>WHO Region</th>\n",
       "      <th>ISO3</th>\n",
       "      <th>WHO Country Name</th>\n",
       "      <th>City or Locality</th>\n",
       "      <th>Measurement Year</th>\n",
       "      <th>PM2.5 (μg/m3)</th>\n",
       "      <th>PM10 (μg/m3)</th>\n",
       "      <th>NO2 (μg/m3)</th>\n",
       "      <th>PM25 temporal coverage (%)</th>\n",
       "      <th>PM10 temporal coverage (%)</th>\n",
       "      <th>NO2 temporal coverage (%)</th>\n",
       "      <th>Reference</th>\n",
       "      <th>Number and type of monitoring stations</th>\n",
       "      <th>Version of the database</th>\n",
       "      <th>Status</th>\n",
       "    </tr>\n",
       "  </thead>\n",
       "  <tbody>\n",
       "    <tr>\n",
       "      <th>0</th>\n",
       "      <td>Eastern Mediterranean Region</td>\n",
       "      <td>AFG</td>\n",
       "      <td>Afghanistan</td>\n",
       "      <td>Kabul</td>\n",
       "      <td>2019</td>\n",
       "      <td>119.77</td>\n",
       "      <td>NaN</td>\n",
       "      <td>NaN</td>\n",
       "      <td>18.0</td>\n",
       "      <td>NaN</td>\n",
       "      <td>NaN</td>\n",
       "      <td>U.S. Department of State, United States Enviro...</td>\n",
       "      <td>NaN</td>\n",
       "      <td>2022</td>\n",
       "      <td>NaN</td>\n",
       "    </tr>\n",
       "    <tr>\n",
       "      <th>1</th>\n",
       "      <td>European Region</td>\n",
       "      <td>ALB</td>\n",
       "      <td>Albania</td>\n",
       "      <td>Durres</td>\n",
       "      <td>2015</td>\n",
       "      <td>NaN</td>\n",
       "      <td>17.65</td>\n",
       "      <td>26.63</td>\n",
       "      <td>NaN</td>\n",
       "      <td>NaN</td>\n",
       "      <td>83.961187</td>\n",
       "      <td>European Environment Agency (downloaded in 2021)</td>\n",
       "      <td>NaN</td>\n",
       "      <td>2022</td>\n",
       "      <td>NaN</td>\n",
       "    </tr>\n",
       "    <tr>\n",
       "      <th>2</th>\n",
       "      <td>European Region</td>\n",
       "      <td>ALB</td>\n",
       "      <td>Albania</td>\n",
       "      <td>Durres</td>\n",
       "      <td>2016</td>\n",
       "      <td>14.32</td>\n",
       "      <td>24.56</td>\n",
       "      <td>24.78</td>\n",
       "      <td>NaN</td>\n",
       "      <td>NaN</td>\n",
       "      <td>87.932605</td>\n",
       "      <td>European Environment Agency (downloaded in 2021)</td>\n",
       "      <td>NaN</td>\n",
       "      <td>2022</td>\n",
       "      <td>NaN</td>\n",
       "    </tr>\n",
       "    <tr>\n",
       "      <th>3</th>\n",
       "      <td>European Region</td>\n",
       "      <td>ALB</td>\n",
       "      <td>Albania</td>\n",
       "      <td>Elbasan</td>\n",
       "      <td>2015</td>\n",
       "      <td>NaN</td>\n",
       "      <td>NaN</td>\n",
       "      <td>23.96</td>\n",
       "      <td>NaN</td>\n",
       "      <td>NaN</td>\n",
       "      <td>97.853881</td>\n",
       "      <td>European Environment Agency (downloaded in 2021)</td>\n",
       "      <td>NaN</td>\n",
       "      <td>2022</td>\n",
       "      <td>NaN</td>\n",
       "    </tr>\n",
       "    <tr>\n",
       "      <th>4</th>\n",
       "      <td>European Region</td>\n",
       "      <td>ALB</td>\n",
       "      <td>Albania</td>\n",
       "      <td>Elbasan</td>\n",
       "      <td>2016</td>\n",
       "      <td>NaN</td>\n",
       "      <td>NaN</td>\n",
       "      <td>26.26</td>\n",
       "      <td>NaN</td>\n",
       "      <td>NaN</td>\n",
       "      <td>96.049636</td>\n",
       "      <td>European Environment Agency (downloaded in 2021)</td>\n",
       "      <td>NaN</td>\n",
       "      <td>2022</td>\n",
       "      <td>NaN</td>\n",
       "    </tr>\n",
       "  </tbody>\n",
       "</table>\n",
       "</div>"
      ],
      "text/plain": [
       "                     WHO Region ISO3 WHO Country Name City or Locality  \\\n",
       "0  Eastern Mediterranean Region  AFG      Afghanistan            Kabul   \n",
       "1               European Region  ALB          Albania           Durres   \n",
       "2               European Region  ALB          Albania           Durres   \n",
       "3               European Region  ALB          Albania          Elbasan   \n",
       "4               European Region  ALB          Albania          Elbasan   \n",
       "\n",
       "   Measurement Year  PM2.5 (μg/m3)  PM10 (μg/m3)  NO2 (μg/m3)  \\\n",
       "0              2019         119.77           NaN          NaN   \n",
       "1              2015            NaN         17.65        26.63   \n",
       "2              2016          14.32         24.56        24.78   \n",
       "3              2015            NaN           NaN        23.96   \n",
       "4              2016            NaN           NaN        26.26   \n",
       "\n",
       "   PM25 temporal coverage (%)  PM10 temporal coverage (%)  \\\n",
       "0                        18.0                         NaN   \n",
       "1                         NaN                         NaN   \n",
       "2                         NaN                         NaN   \n",
       "3                         NaN                         NaN   \n",
       "4                         NaN                         NaN   \n",
       "\n",
       "   NO2 temporal coverage (%)  \\\n",
       "0                        NaN   \n",
       "1                  83.961187   \n",
       "2                  87.932605   \n",
       "3                  97.853881   \n",
       "4                  96.049636   \n",
       "\n",
       "                                           Reference  \\\n",
       "0  U.S. Department of State, United States Enviro...   \n",
       "1   European Environment Agency (downloaded in 2021)   \n",
       "2   European Environment Agency (downloaded in 2021)   \n",
       "3   European Environment Agency (downloaded in 2021)   \n",
       "4   European Environment Agency (downloaded in 2021)   \n",
       "\n",
       "  Number and type of monitoring stations  Version of the database  Status  \n",
       "0                                    NaN                     2022     NaN  \n",
       "1                                    NaN                     2022     NaN  \n",
       "2                                    NaN                     2022     NaN  \n",
       "3                                    NaN                     2022     NaN  \n",
       "4                                    NaN                     2022     NaN  "
      ]
     },
     "execution_count": 15,
     "metadata": {},
     "output_type": "execute_result"
    }
   ],
   "source": [
    "df.drop(14, inplace=True)\n",
    "df.head() "
   ]
  },
  {
   "cell_type": "code",
   "execution_count": 16,
   "id": "3b0ff3d1",
   "metadata": {},
   "outputs": [
    {
     "data": {
      "text/plain": [
       "(32190, 15)"
      ]
     },
     "execution_count": 16,
     "metadata": {},
     "output_type": "execute_result"
    }
   ],
   "source": [
    "df.shape"
   ]
  },
  {
   "cell_type": "code",
   "execution_count": 17,
   "id": "3eda0ee5",
   "metadata": {},
   "outputs": [
    {
     "data": {
      "text/html": [
       "<div>\n",
       "<style scoped>\n",
       "    .dataframe tbody tr th:only-of-type {\n",
       "        vertical-align: middle;\n",
       "    }\n",
       "\n",
       "    .dataframe tbody tr th {\n",
       "        vertical-align: top;\n",
       "    }\n",
       "\n",
       "    .dataframe thead th {\n",
       "        text-align: right;\n",
       "    }\n",
       "</style>\n",
       "<table border=\"1\" class=\"dataframe\">\n",
       "  <thead>\n",
       "    <tr style=\"text-align: right;\">\n",
       "      <th></th>\n",
       "      <th>WHO Region</th>\n",
       "      <th>ISO3</th>\n",
       "      <th>WHO Country Name</th>\n",
       "      <th>City or Locality</th>\n",
       "      <th>Measurement Year</th>\n",
       "      <th>PM2.5 (μg/m3)</th>\n",
       "      <th>PM10 (μg/m3)</th>\n",
       "      <th>NO2 (μg/m3)</th>\n",
       "      <th>PM25 temporal coverage (%)</th>\n",
       "      <th>PM10 temporal coverage (%)</th>\n",
       "      <th>NO2 temporal coverage (%)</th>\n",
       "      <th>Reference</th>\n",
       "      <th>Number and type of monitoring stations</th>\n",
       "      <th>Version of the database</th>\n",
       "    </tr>\n",
       "  </thead>\n",
       "  <tbody>\n",
       "    <tr>\n",
       "      <th>0</th>\n",
       "      <td>Eastern Mediterranean Region</td>\n",
       "      <td>AFG</td>\n",
       "      <td>Afghanistan</td>\n",
       "      <td>Kabul</td>\n",
       "      <td>2019</td>\n",
       "      <td>119.77</td>\n",
       "      <td>NaN</td>\n",
       "      <td>NaN</td>\n",
       "      <td>18.0</td>\n",
       "      <td>NaN</td>\n",
       "      <td>NaN</td>\n",
       "      <td>U.S. Department of State, United States Enviro...</td>\n",
       "      <td>NaN</td>\n",
       "      <td>2022</td>\n",
       "    </tr>\n",
       "    <tr>\n",
       "      <th>1</th>\n",
       "      <td>European Region</td>\n",
       "      <td>ALB</td>\n",
       "      <td>Albania</td>\n",
       "      <td>Durres</td>\n",
       "      <td>2015</td>\n",
       "      <td>NaN</td>\n",
       "      <td>17.65</td>\n",
       "      <td>26.63</td>\n",
       "      <td>NaN</td>\n",
       "      <td>NaN</td>\n",
       "      <td>83.961187</td>\n",
       "      <td>European Environment Agency (downloaded in 2021)</td>\n",
       "      <td>NaN</td>\n",
       "      <td>2022</td>\n",
       "    </tr>\n",
       "    <tr>\n",
       "      <th>2</th>\n",
       "      <td>European Region</td>\n",
       "      <td>ALB</td>\n",
       "      <td>Albania</td>\n",
       "      <td>Durres</td>\n",
       "      <td>2016</td>\n",
       "      <td>14.32</td>\n",
       "      <td>24.56</td>\n",
       "      <td>24.78</td>\n",
       "      <td>NaN</td>\n",
       "      <td>NaN</td>\n",
       "      <td>87.932605</td>\n",
       "      <td>European Environment Agency (downloaded in 2021)</td>\n",
       "      <td>NaN</td>\n",
       "      <td>2022</td>\n",
       "    </tr>\n",
       "    <tr>\n",
       "      <th>3</th>\n",
       "      <td>European Region</td>\n",
       "      <td>ALB</td>\n",
       "      <td>Albania</td>\n",
       "      <td>Elbasan</td>\n",
       "      <td>2015</td>\n",
       "      <td>NaN</td>\n",
       "      <td>NaN</td>\n",
       "      <td>23.96</td>\n",
       "      <td>NaN</td>\n",
       "      <td>NaN</td>\n",
       "      <td>97.853881</td>\n",
       "      <td>European Environment Agency (downloaded in 2021)</td>\n",
       "      <td>NaN</td>\n",
       "      <td>2022</td>\n",
       "    </tr>\n",
       "    <tr>\n",
       "      <th>4</th>\n",
       "      <td>European Region</td>\n",
       "      <td>ALB</td>\n",
       "      <td>Albania</td>\n",
       "      <td>Elbasan</td>\n",
       "      <td>2016</td>\n",
       "      <td>NaN</td>\n",
       "      <td>NaN</td>\n",
       "      <td>26.26</td>\n",
       "      <td>NaN</td>\n",
       "      <td>NaN</td>\n",
       "      <td>96.049636</td>\n",
       "      <td>European Environment Agency (downloaded in 2021)</td>\n",
       "      <td>NaN</td>\n",
       "      <td>2022</td>\n",
       "    </tr>\n",
       "  </tbody>\n",
       "</table>\n",
       "</div>"
      ],
      "text/plain": [
       "                     WHO Region ISO3 WHO Country Name City or Locality  \\\n",
       "0  Eastern Mediterranean Region  AFG      Afghanistan            Kabul   \n",
       "1               European Region  ALB          Albania           Durres   \n",
       "2               European Region  ALB          Albania           Durres   \n",
       "3               European Region  ALB          Albania          Elbasan   \n",
       "4               European Region  ALB          Albania          Elbasan   \n",
       "\n",
       "   Measurement Year  PM2.5 (μg/m3)  PM10 (μg/m3)  NO2 (μg/m3)  \\\n",
       "0              2019         119.77           NaN          NaN   \n",
       "1              2015            NaN         17.65        26.63   \n",
       "2              2016          14.32         24.56        24.78   \n",
       "3              2015            NaN           NaN        23.96   \n",
       "4              2016            NaN           NaN        26.26   \n",
       "\n",
       "   PM25 temporal coverage (%)  PM10 temporal coverage (%)  \\\n",
       "0                        18.0                         NaN   \n",
       "1                         NaN                         NaN   \n",
       "2                         NaN                         NaN   \n",
       "3                         NaN                         NaN   \n",
       "4                         NaN                         NaN   \n",
       "\n",
       "   NO2 temporal coverage (%)  \\\n",
       "0                        NaN   \n",
       "1                  83.961187   \n",
       "2                  87.932605   \n",
       "3                  97.853881   \n",
       "4                  96.049636   \n",
       "\n",
       "                                           Reference  \\\n",
       "0  U.S. Department of State, United States Enviro...   \n",
       "1   European Environment Agency (downloaded in 2021)   \n",
       "2   European Environment Agency (downloaded in 2021)   \n",
       "3   European Environment Agency (downloaded in 2021)   \n",
       "4   European Environment Agency (downloaded in 2021)   \n",
       "\n",
       "  Number and type of monitoring stations  Version of the database  \n",
       "0                                    NaN                     2022  \n",
       "1                                    NaN                     2022  \n",
       "2                                    NaN                     2022  \n",
       "3                                    NaN                     2022  \n",
       "4                                    NaN                     2022  "
      ]
     },
     "execution_count": 17,
     "metadata": {},
     "output_type": "execute_result"
    }
   ],
   "source": [
    "del df['Status']\n",
    "df.head()"
   ]
  },
  {
   "cell_type": "code",
   "execution_count": 18,
   "id": "32985067",
   "metadata": {},
   "outputs": [
    {
     "data": {
      "text/plain": [
       "(32190, 14)"
      ]
     },
     "execution_count": 18,
     "metadata": {},
     "output_type": "execute_result"
    }
   ],
   "source": [
    "df.shape"
   ]
  },
  {
   "cell_type": "code",
   "execution_count": 19,
   "id": "72432fb6",
   "metadata": {},
   "outputs": [
    {
     "name": "stdout",
     "output_type": "stream",
     "text": [
      "                         WHO Region ISO3 WHO Country Name City or Locality  \\\n",
      "0      Eastern Mediterranean Region  AFG      Afghanistan            Kabul   \n",
      "1                   European Region  ALB          Albania           Durres   \n",
      "2                   European Region  ALB          Albania           Durres   \n",
      "3                   European Region  ALB          Albania          Elbasan   \n",
      "4                   European Region  ALB          Albania          Elbasan   \n",
      "...                             ...  ...              ...              ...   \n",
      "32186                African Region  ZAF     South Africa       West Coast   \n",
      "32187                African Region  ZAF     South Africa       West Coast   \n",
      "32188                African Region  ZAF     South Africa       West Coast   \n",
      "32189                African Region  ZAF     South Africa       West Coast   \n",
      "32190                African Region  ZAF     South Africa        West Rand   \n",
      "\n",
      "       Measurement Year  PM2.5 (μg/m3)  PM10 (μg/m3)  NO2 (μg/m3)  \\\n",
      "0                  2019         119.77           NaN          NaN   \n",
      "1                  2015            NaN         17.65        26.63   \n",
      "2                  2016          14.32         24.56        24.78   \n",
      "3                  2015            NaN           NaN        23.96   \n",
      "4                  2016            NaN           NaN        26.26   \n",
      "...                 ...            ...           ...          ...   \n",
      "32186              2015           7.47         24.64         7.64   \n",
      "32187              2016           8.42         33.28         7.27   \n",
      "32188              2017           6.83         20.49         8.72   \n",
      "32189              2018           6.10         17.99         7.15   \n",
      "32190              2016            NaN           NaN        17.85   \n",
      "\n",
      "                                               Reference  \\\n",
      "0      U.S. Department of State, United States Enviro...   \n",
      "1       European Environment Agency (downloaded in 2021)   \n",
      "2       European Environment Agency (downloaded in 2021)   \n",
      "3       European Environment Agency (downloaded in 2021)   \n",
      "4       European Environment Agency (downloaded in 2021)   \n",
      "...                                                  ...   \n",
      "32186       South African Air Quality Information System   \n",
      "32187       South African Air Quality Information System   \n",
      "32188       South African Air Quality Information System   \n",
      "32189       South African Air Quality Information System   \n",
      "32190       South African Air Quality Information System   \n",
      "\n",
      "      Number and type of monitoring stations  Version of the database  \n",
      "0                                        NaN                     2022  \n",
      "1                                        NaN                     2022  \n",
      "2                                        NaN                     2022  \n",
      "3                                        NaN                     2022  \n",
      "4                                        NaN                     2022  \n",
      "...                                      ...                      ...  \n",
      "32186      3 Residential-Medium/Upper income                     2022  \n",
      "32187      2 Residential-Medium/Upper income                     2022  \n",
      "32188      2 Residential-Medium/Upper income                     2022  \n",
      "32189      2 Residential-Medium/Upper income                     2022  \n",
      "32190                                  1 N/A                     2022  \n",
      "\n",
      "[32190 rows x 11 columns]\n"
     ]
    }
   ],
   "source": [
    "columns_to_drop = ['PM25 temporal coverage (%)','PM10 temporal coverage (%)','NO2 temporal coverage (%)']\n",
    "df.drop(columns=columns_to_drop, inplace=True)\n",
    "print(df)"
   ]
  },
  {
   "cell_type": "markdown",
   "id": "9bd7ec3f",
   "metadata": {},
   "source": [
    "# Handling Missing Values"
   ]
  },
  {
   "cell_type": "code",
   "execution_count": 20,
   "id": "73200547",
   "metadata": {},
   "outputs": [
    {
     "name": "stderr",
     "output_type": "stream",
     "text": [
      "C:\\Users\\KIIT\\AppData\\Local\\Temp\\ipykernel_4492\\588977199.py:1: FutureWarning: Dropping of nuisance columns in DataFrame reductions (with 'numeric_only=None') is deprecated; in a future version this will raise TypeError.  Select only valid columns before calling the reduction.\n",
      "  df.fillna(data.mean(), inplace=True)\n"
     ]
    }
   ],
   "source": [
    "df.fillna(data.mean(), inplace=True)"
   ]
  },
  {
   "cell_type": "code",
   "execution_count": 21,
   "id": "80fad8b0",
   "metadata": {},
   "outputs": [
    {
     "data": {
      "text/plain": [
       "WHO Region                                    1\n",
       "ISO3                                          0\n",
       "WHO Country Name                              0\n",
       "City or Locality                              0\n",
       "Measurement Year                              0\n",
       "PM2.5 (μg/m3)                                 0\n",
       "PM10 (μg/m3)                                  0\n",
       "NO2 (μg/m3)                                   0\n",
       "Reference                                     5\n",
       "Number and type of monitoring stations    23432\n",
       "Version of the database                       0\n",
       "dtype: int64"
      ]
     },
     "execution_count": 21,
     "metadata": {},
     "output_type": "execute_result"
    }
   ],
   "source": [
    "df.isnull().sum() "
   ]
  },
  {
   "cell_type": "code",
   "execution_count": 22,
   "id": "ac841634",
   "metadata": {},
   "outputs": [],
   "source": [
    "df['Number and type of monitoring stations'].fillna(method='ffill', inplace=True)"
   ]
  },
  {
   "cell_type": "code",
   "execution_count": 23,
   "id": "67f98d4a",
   "metadata": {},
   "outputs": [],
   "source": [
    "df['WHO Region'].fillna(method='bfill', inplace=True)"
   ]
  },
  {
   "cell_type": "code",
   "execution_count": 24,
   "id": "90f98de3",
   "metadata": {},
   "outputs": [],
   "source": [
    "df['Reference'].fillna(method='bfill', inplace=True)"
   ]
  },
  {
   "cell_type": "code",
   "execution_count": 25,
   "id": "ba087fae",
   "metadata": {},
   "outputs": [
    {
     "data": {
      "text/plain": [
       "WHO Region                                 0\n",
       "ISO3                                       0\n",
       "WHO Country Name                           0\n",
       "City or Locality                           0\n",
       "Measurement Year                           0\n",
       "PM2.5 (μg/m3)                              0\n",
       "PM10 (μg/m3)                               0\n",
       "NO2 (μg/m3)                                0\n",
       "Reference                                  0\n",
       "Number and type of monitoring stations    19\n",
       "Version of the database                    0\n",
       "dtype: int64"
      ]
     },
     "execution_count": 25,
     "metadata": {},
     "output_type": "execute_result"
    }
   ],
   "source": [
    "df.isnull().sum() "
   ]
  },
  {
   "cell_type": "code",
   "execution_count": 26,
   "id": "e7b85430",
   "metadata": {},
   "outputs": [],
   "source": [
    "df['Number and type of monitoring stations'].fillna(method='bfill', inplace=True)"
   ]
  },
  {
   "cell_type": "code",
   "execution_count": 27,
   "id": "5658d2ac",
   "metadata": {},
   "outputs": [
    {
     "data": {
      "text/plain": [
       "WHO Region                                0\n",
       "ISO3                                      0\n",
       "WHO Country Name                          0\n",
       "City or Locality                          0\n",
       "Measurement Year                          0\n",
       "PM2.5 (μg/m3)                             0\n",
       "PM10 (μg/m3)                              0\n",
       "NO2 (μg/m3)                               0\n",
       "Reference                                 0\n",
       "Number and type of monitoring stations    0\n",
       "Version of the database                   0\n",
       "dtype: int64"
      ]
     },
     "execution_count": 27,
     "metadata": {},
     "output_type": "execute_result"
    }
   ],
   "source": [
    "df.isnull().sum() "
   ]
  },
  {
   "cell_type": "code",
   "execution_count": 28,
   "id": "67b4de81",
   "metadata": {},
   "outputs": [
    {
     "data": {
      "text/plain": [
       "WHO Region\n",
       "African Region                  25.758540\n",
       "Eastern Mediterranean Region    30.560935\n",
       "European Region                 19.583988\n",
       "Region of the Americas          16.742526\n",
       "South East Asia Region          27.300540\n",
       "Western Pacific Region          39.018294\n",
       "Name: PM2.5 (μg/m3), dtype: float64"
      ]
     },
     "execution_count": 28,
     "metadata": {},
     "output_type": "execute_result"
    }
   ],
   "source": [
    "# Arranging WHO Region wise PM 2.5 levels mean values\n",
    "pm2_51=df.groupby(\"WHO Region\")[\"PM2.5 (μg/m3)\"].mean()\n",
    "pm2_51"
   ]
  },
  {
   "cell_type": "markdown",
   "id": "bbc22e16",
   "metadata": {},
   "source": [
    "# Handling Outliers"
   ]
  },
  {
   "cell_type": "code",
   "execution_count": 29,
   "id": "42748f36",
   "metadata": {},
   "outputs": [
    {
     "name": "stdout",
     "output_type": "stream",
     "text": [
      "                         WHO Region ISO3      WHO Country Name  \\\n",
      "0      Eastern Mediterranean Region  AFG           Afghanistan   \n",
      "25     Eastern Mediterranean Region  ARE  United Arab Emirates   \n",
      "26     Eastern Mediterranean Region  ARE  United Arab Emirates   \n",
      "27     Eastern Mediterranean Region  ARE  United Arab Emirates   \n",
      "44     Eastern Mediterranean Region  ARE  United Arab Emirates   \n",
      "...                             ...  ...                   ...   \n",
      "32174                African Region  ZAF          South Africa   \n",
      "32186                African Region  ZAF          South Africa   \n",
      "32187                African Region  ZAF          South Africa   \n",
      "32188                African Region  ZAF          South Africa   \n",
      "32189                African Region  ZAF          South Africa   \n",
      "\n",
      "      City or Locality  Measurement Year  PM2.5 (μg/m3)  PM10 (μg/m3)  \\\n",
      "0                Kabul              2019         119.77     30.533252   \n",
      "25           Abu Dhabi              2017          32.79    122.170000   \n",
      "26           Abu Dhabi              2018          49.13    134.290000   \n",
      "27           Abu Dhabi              2019          44.40    108.520000   \n",
      "44               Dubai              2018          53.93    101.350000   \n",
      "...                ...               ...            ...           ...   \n",
      "32174        Waterberg              2012          43.31     85.220000   \n",
      "32186       West Coast              2015           7.47     24.640000   \n",
      "32187       West Coast              2016           8.42     33.280000   \n",
      "32188       West Coast              2017           6.83     20.490000   \n",
      "32189       West Coast              2018           6.10     17.990000   \n",
      "\n",
      "       NO2 (μg/m3)                                          Reference  \\\n",
      "0        20.619336  U.S. Department of State, United States Enviro...   \n",
      "25       30.050000  Statistics Center - Abu Dhabi from Environment...   \n",
      "26       31.240000  Statistics Center - Abu Dhabi from Environment...   \n",
      "27       30.890000  Statistics Center - Abu Dhabi from Environment...   \n",
      "44       55.650000  Statistics Center - Abu Dhabi from Environment...   \n",
      "...            ...                                                ...   \n",
      "32174    11.620000       South African Air Quality Information System   \n",
      "32186     7.640000       South African Air Quality Information System   \n",
      "32187     7.270000       South African Air Quality Information System   \n",
      "32188     8.720000       South African Air Quality Information System   \n",
      "32189     7.150000       South African Air Quality Information System   \n",
      "\n",
      "                  Number and type of monitoring stations  \\\n",
      "0      1 City Centre, 1 Industrial, 1 Road Side, 2 Ur...   \n",
      "25     1 down town, 2 Down Town, 3 Industrial, 2 Refe...   \n",
      "26     1 down town, 2 Down Town, 3 Industrial, 2 Refe...   \n",
      "27     1 down town, 2 Down Town, 3 Industrial, 2 Refe...   \n",
      "44      1 Industrial, 1 Remote, 7 Residential, 2 Traffic   \n",
      "...                                                  ...   \n",
      "32174                           1 Residential-Low income   \n",
      "32186                  3 Residential-Medium/Upper income   \n",
      "32187                  2 Residential-Medium/Upper income   \n",
      "32188                  2 Residential-Medium/Upper income   \n",
      "32189                  2 Residential-Medium/Upper income   \n",
      "\n",
      "       Version of the database  \n",
      "0                         2022  \n",
      "25                        2022  \n",
      "26                        2022  \n",
      "27                        2022  \n",
      "44                        2022  \n",
      "...                        ...  \n",
      "32174                     2022  \n",
      "32186                     2022  \n",
      "32187                     2022  \n",
      "32188                     2022  \n",
      "32189                     2022  \n",
      "\n",
      "[6695 rows x 11 columns]\n"
     ]
    }
   ],
   "source": [
    "Q1 = df['PM2.5 (μg/m3)'].quantile(0.25)\n",
    "Q3 = df['PM2.5 (μg/m3)'].quantile(0.75)\n",
    "IQR = Q3 - Q1\n",
    "\n",
    "# Define the threshold for outlier detection\n",
    "threshold = 1.5 * IQR\n",
    "\n",
    "# Identify outliers based on the threshold\n",
    "outliers = df[(df['PM2.5 (μg/m3)'] < Q1 - threshold) | (df['PM2.5 (μg/m3)'] > Q3 + threshold)]\n",
    "print(outliers)"
   ]
  },
  {
   "cell_type": "code",
   "execution_count": 30,
   "id": "bfa1bf9e",
   "metadata": {},
   "outputs": [
    {
     "data": {
      "text/plain": [
       "<Axes: >"
      ]
     },
     "execution_count": 30,
     "metadata": {},
     "output_type": "execute_result"
    },
    {
     "data": {
      "image/png": "[encoded data removed]",
      "text/plain": [
       "<Figure size 432x288 with 1 Axes>"
      ]
     },
     "metadata": {
      "needs_background": "light"
     },
     "output_type": "display_data"
    }
   ],
   "source": [
    "import seaborn as sns\n",
    "sns.boxplot(df['PM2.5 (μg/m3)'])"
   ]
  },
  {
   "cell_type": "code",
   "execution_count": 31,
   "id": "2227d67d",
   "metadata": {},
   "outputs": [
    {
     "data": {
      "text/plain": [
       "<Axes: >"
      ]
     },
     "execution_count": 31,
     "metadata": {},
     "output_type": "execute_result"
    },
    {
     "data": {
      "image/png": "[encoded data removed]",
      "text/plain": [
       "<Figure size 432x288 with 1 Axes>"
      ]
     },
     "metadata": {
      "needs_background": "light"
     },
     "output_type": "display_data"
    }
   ],
   "source": [
    "sns.boxplot(df['PM10 (μg/m3)'])"
   ]
  },
  {
   "cell_type": "code",
   "execution_count": 32,
   "id": "ccbd3746",
   "metadata": {},
   "outputs": [
    {
     "data": {
      "text/plain": [
       "<Axes: >"
      ]
     },
     "execution_count": 32,
     "metadata": {},
     "output_type": "execute_result"
    },
    {
     "data": {
      "image/png": "[encoded data removed]",
      "text/plain": [
       "<Figure size 432x288 with 1 Axes>"
      ]
     },
     "metadata": {
      "needs_background": "light"
     },
     "output_type": "display_data"
    }
   ],
   "source": [
    "sns.boxplot(df['NO2 (μg/m3)'])"
   ]
  },
  {
   "cell_type": "code",
   "execution_count": 33,
   "id": "829cbcaf",
   "metadata": {},
   "outputs": [],
   "source": [
    "# Visualizing"
   ]
  },
  {
   "cell_type": "code",
   "execution_count": 34,
   "id": "f545f67c",
   "metadata": {},
   "outputs": [
    {
     "data": {
      "image/png": "[encoded data removed]",
      "text/plain": [
       "<Figure size 432x288 with 1 Axes>"
      ]
     },
     "metadata": {
      "needs_background": "light"
     },
     "output_type": "display_data"
    }
   ],
   "source": [
    "import matplotlib.pyplot as plt\n",
    "plt.hist(data['NO2 (μg/m3)'], bins=20)\n",
    "plt.xlabel('NO2 (μg/m3)')\n",
    "plt.ylabel('Frequency')\n",
    "plt.title('Histogram of NO2 (μg/m3)')\n",
    "plt.show()"
   ]
  },
  {
   "cell_type": "code",
   "execution_count": 35,
   "id": "8222fd16",
   "metadata": {},
   "outputs": [
    {
     "data": {
      "image/png": "[encoded data removed]",
      "text/plain": [
       "<Figure size 432x288 with 1 Axes>"
      ]
     },
     "metadata": {
      "needs_background": "light"
     },
     "output_type": "display_data"
    }
   ],
   "source": [
    "plt.hist(data['PM2.5 (μg/m3)'], bins=20)\n",
    "plt.xlabel('PM2.5 (μg/m3)')\n",
    "plt.ylabel('Frequency')\n",
    "plt.title('Histogram of PM2.5 (μg/m3)')\n",
    "plt.show()"
   ]
  },
  {
   "cell_type": "code",
   "execution_count": 36,
   "id": "607a02be",
   "metadata": {},
   "outputs": [
    {
     "data": {
      "image/png": "[encoded data removed]",
      "text/plain": [
       "<Figure size 432x288 with 1 Axes>"
      ]
     },
     "metadata": {
      "needs_background": "light"
     },
     "output_type": "display_data"
    }
   ],
   "source": [
    "plt.bar(df['WHO Region'].value_counts().index, df['WHO Region'].value_counts())\n",
    "plt.xlabel('WHO Region')\n",
    "plt.ylabel('Count')\n",
    "plt.title('Bar Chart of WHO Region')\n",
    "plt.show()"
   ]
  },
  {
   "cell_type": "code",
   "execution_count": 37,
   "id": "47ee0c5e",
   "metadata": {},
   "outputs": [
    {
     "data": {
      "text/plain": [
       "<Axes: title={'center': 'PM 2.5 Levels in different WHO Regions'}, xlabel='WHO Region', ylabel='Level'>"
      ]
     },
     "execution_count": 37,
     "metadata": {},
     "output_type": "execute_result"
    },
    {
     "data": {
      "image/png": "[encoded data removed]",
      "text/plain": [
       "<Figure size 504x504 with 1 Axes>"
      ]
     },
     "metadata": {
      "needs_background": "light"
     },
     "output_type": "display_data"
    }
   ],
   "source": [
    "# Plotting the horizontal bar plot for cities against PM 2.5 level value.\n",
    "pm2_51.sort_values(ascending=False).head(10) .plot(figsize=(7,7),kind=\"bar\",title=\"PM 2.5 Levels in different WHO Regions\", xlabel=\"WHO Region\", ylabel=\"Level\")"
   ]
  },
  {
   "cell_type": "code",
   "execution_count": 38,
   "id": "62714307",
   "metadata": {},
   "outputs": [
    {
     "data": {
      "text/plain": [
       "<Axes: title={'center': 'PM 10 Levels in different WHO Regions'}, xlabel='WHO Region', ylabel='Level'>"
      ]
     },
     "execution_count": 38,
     "metadata": {},
     "output_type": "execute_result"
    },
    {
     "data": {
      "image/png": "[encoded data removed]",
      "text/plain": [
       "<Figure size 504x504 with 1 Axes>"
      ]
     },
     "metadata": {
      "needs_background": "light"
     },
     "output_type": "display_data"
    }
   ],
   "source": [
    "# Plotting the horizontal bar plot for cities against PM 10 level value.\n",
    "pm_10=df.groupby(\"WHO Region\")[\"PM10 (μg/m3)\"].mean()\n",
    "pm_10.sort_values(ascending=False).head(10) .plot(figsize=(7,7),kind=\"bar\",title=\"PM 10 Levels in different WHO Regions\", xlabel=\"WHO Region\", ylabel=\"Level\")"
   ]
  },
  {
   "cell_type": "code",
   "execution_count": 39,
   "id": "87f4ca07",
   "metadata": {},
   "outputs": [
    {
     "data": {
      "image/png": "[encoded data removed]",
      "text/plain": [
       "<Figure size 432x288 with 1 Axes>"
      ]
     },
     "metadata": {
      "needs_background": "light"
     },
     "output_type": "display_data"
    }
   ],
   "source": [
    "avg_pm25 = data.groupby('WHO Region')['PM2.5 (μg/m3)'].mean()\n",
    "avg_pm10 = data.groupby('WHO Region')['PM10 (μg/m3)'].mean()\n",
    "\n",
    "# Combine the average values for both PM2.5 and PM10\n",
    "avg_pollution = pd.concat([avg_pm25, avg_pm10], axis=1)\n",
    "\n",
    "# Calculate the overall pollution index\n",
    "avg_pollution['Pollution_Index'] = avg_pollution.mean(axis=1)\n",
    "\n",
    "# Sort the cities by pollution index\n",
    "sorted_pollution = avg_pollution.sort_values('Pollution_Index', ascending=False)\n",
    "\n",
    "# Plot the most polluted city\n",
    "plt.barh(sorted_pollution.index, sorted_pollution['Pollution_Index'])\n",
    "plt.xlabel('Pollution Index')\n",
    "plt.ylabel('City')\n",
    "plt.title('Pollution Levels by City (PM2.5 and PM10)')\n",
    "plt.show()"
   ]
  },
  {
   "cell_type": "code",
   "execution_count": 40,
   "id": "5e66b489",
   "metadata": {},
   "outputs": [
    {
     "data": {
      "image/png": "[encoded data removed]",
      "text/plain": [
       "<Figure size 720x576 with 2 Axes>"
      ]
     },
     "metadata": {
      "needs_background": "light"
     },
     "output_type": "display_data"
    }
   ],
   "source": [
    "corr_matrix = df.corr()\n",
    "\n",
    "# Create a heatmap\n",
    "plt.figure(figsize=(10, 8))\n",
    "sns.heatmap(corr_matrix, annot=True, cmap='coolwarm', square=True)\n",
    "plt.title('Correlation Heatmap')\n",
    "plt.show()"
   ]
  },
  {
   "cell_type": "markdown",
   "id": "8b056061",
   "metadata": {},
   "source": [
    "## Model Training"
   ]
  },
  {
   "cell_type": "code",
   "execution_count": 41,
   "id": "267ac0bb",
   "metadata": {},
   "outputs": [
    {
     "data": {
      "text/plain": [
       "Index(['WHO Region', 'ISO3', 'WHO Country Name', 'City or Locality',\n",
       "       'Measurement Year', 'PM2.5 (μg/m3)', 'PM10 (μg/m3)', 'NO2 (μg/m3)',\n",
       "       'Reference', 'Number and type of monitoring stations',\n",
       "       'Version of the database'],\n",
       "      dtype='object')"
      ]
     },
     "execution_count": 41,
     "metadata": {},
     "output_type": "execute_result"
    }
   ],
   "source": [
    "df.columns"
   ]
  },
  {
   "cell_type": "code",
   "execution_count": 42,
   "id": "320a48a3",
   "metadata": {},
   "outputs": [
    {
     "name": "stdout",
     "output_type": "stream",
     "text": [
      "(24142, 3) (8048, 3) (24142,) (8048,)\n"
     ]
    }
   ],
   "source": [
    "from sklearn.model_selection import train_test_split\n",
    "\n",
    "x=df[[\"PM2.5 (μg/m3)\" , \"PM10 (μg/m3)\" , \"NO2 (μg/m3)\"]]\n",
    "y=df[\"Measurement Year\"]\n",
    "\n",
    "x_train,x_test,y_train,y_test = train_test_split(x,y,test_size=0.25,random_state=0)\n",
    "print(x_train.shape,x_test.shape,y_train.shape,y_test.shape)"
   ]
  },
  {
   "cell_type": "code",
   "execution_count": 43,
   "id": "14aca4b3",
   "metadata": {},
   "outputs": [],
   "source": [
    "from sklearn.linear_model import LinearRegression\n",
    "from sklearn.preprocessing import PolynomialFeatures\n",
    "\n",
    "#Multiple Linear regression model\n",
    "reg_model=LinearRegression()\n",
    "reg_model.fit(x_train,y_train)\n",
    "\n",
    "reg_model_y_predict=reg_model.predict(x_test)\n",
    "\n",
    "#Polynomial regression model\n",
    "polyreg_model=PolynomialFeatures(degree=2)\n",
    "polyreg=LinearRegression()\n",
    "preg=polyreg_model.fit_transform(x_train)\n",
    "polyreg.fit(preg,y_train)\n",
    "polyreg_y_predict=polyreg.predict(polyreg_model.fit_transform(x_test))"
   ]
  },
  {
   "cell_type": "code",
   "execution_count": 44,
   "id": "7ac48d02",
   "metadata": {},
   "outputs": [
    {
     "name": "stdout",
     "output_type": "stream",
     "text": [
      "Requirement already satisfied: scikit-learn in c:\\python\\lib\\site-packages (1.2.2)\n",
      "Requirement already satisfied: numpy>=1.17.3 in c:\\python\\lib\\site-packages (from scikit-learn) (1.23.3)\n",
      "Requirement already satisfied: scipy>=1.3.2 in c:\\python\\lib\\site-packages (from scikit-learn) (1.10.1)\n",
      "Requirement already satisfied: joblib>=1.1.1 in c:\\python\\lib\\site-packages (from scikit-learn) (1.2.0)\n",
      "Requirement already satisfied: threadpoolctl>=2.0.0 in c:\\python\\lib\\site-packages (from scikit-learn) (3.1.0)\n",
      "Note: you may need to restart the kernel to use updated packages.\n"
     ]
    },
    {
     "name": "stderr",
     "output_type": "stream",
     "text": [
      "\n",
      "[notice] A new release of pip is available: 23.1.2 -> 23.3.1\n",
      "[notice] To update, run: c:\\python\\python.exe -m pip install --upgrade pip\n"
     ]
    }
   ],
   "source": [
    "pip install scikit-learn"
   ]
  },
  {
   "cell_type": "code",
   "execution_count": 45,
   "id": "47f2d4cc",
   "metadata": {},
   "outputs": [],
   "source": [
    "from math import sqrt\n",
    "from sklearn import metrics \n",
    "\n",
    "#Multiple Linear regression model\n",
    "reg_rmse=sqrt(metrics.mean_squared_error(y_test, reg_model_y_predict))\n",
    "reg_mean=metrics.mean_absolute_error(y_test, reg_model_y_predict)\n",
    "result_reg=metrics.r2_score(y_test, reg_model_y_predict)\n",
    "\n",
    "#Polynomial regression model\n",
    "polyreg_rmse=sqrt(metrics.mean_squared_error(y_test, polyreg_y_predict))\n",
    "polyreg_mean=metrics.mean_absolute_error(y_test, polyreg_y_predict)\n",
    "result_polyreg=metrics.r2_score(y_test, polyreg_y_predict)"
   ]
  },
  {
   "cell_type": "code",
   "execution_count": 46,
   "id": "aab829e9",
   "metadata": {},
   "outputs": [],
   "source": [
    "#Multiple Linear regression model\n",
    "trainreg_rmse=sqrt(metrics.mean_squared_error(y_train, reg_model.predict(x_train)))\n",
    "trainreg_mean=metrics.mean_absolute_error(y_train, reg_model.predict(x_train))\n",
    "trainresult_reg=metrics.r2_score(y_train, reg_model.predict(x_train))\n",
    "\n",
    "#Polynomial regression model\n",
    "trainpolyreg_rmse=sqrt(metrics.mean_squared_error(y_train, polyreg.predict(polyreg_model.fit_transform(x_train))))\n",
    "trainpolyreg_mean=metrics.mean_absolute_error(y_train, polyreg.predict(polyreg_model.fit_transform(x_train)))\n",
    "trainresult_polyreg=metrics.r2_score(y_train, polyreg.predict(polyreg_model.fit_transform(x_train)))"
   ]
  },
  {
   "cell_type": "code",
   "execution_count": 47,
   "id": "3b0823a4",
   "metadata": {},
   "outputs": [
    {
     "name": "stdout",
     "output_type": "stream",
     "text": [
      "Result \t\t\t \tR^2 \tMAE \tRMSE\n",
      "Multiple Linear Regression\t0.0138\t2.2581\t2.7402\n",
      "Polynomial regression\t\t0.0216\t2.2504\t2.7292\n",
      "Multiple Linear Regression\t0.0133\t2.2574\t2.7320\n",
      "Polynomial regression\t\t0.0209\t2.2514\t2.7214\n"
     ]
    }
   ],
   "source": [
    "#For test data\n",
    "\n",
    "print(\"Result \\t\\t\\t \\tR^2 \\tMAE \\tRMSE\")\n",
    "print(\"Multiple Linear Regression\\t{0:,.4f}\\t{1:,.4f}\\t{2:,.4f}\".format(result_reg, reg_mean, reg_rmse))\n",
    "print(\"Polynomial regression\\t\\t{0:,.4f}\\t{1:,.4f}\\t{2:,.4f}\".format(result_polyreg, polyreg_mean, polyreg_rmse))\n",
    "\n",
    "# For train data\n",
    "print(\"Multiple Linear Regression\\t{0:,.4f}\\t{1:,.4f}\\t{2:,.4f}\".format(trainresult_reg, trainreg_mean, trainreg_rmse))\n",
    "print(\"Polynomial regression\\t\\t{0:,.4f}\\t{1:,.4f}\\t{2:,.4f}\".format(trainresult_polyreg, trainpolyreg_mean, trainpolyreg_rmse))"
   ]
  },
  {
   "cell_type": "code",
   "execution_count": 56,
   "id": "da8d3faf",
   "metadata": {},
   "outputs": [],
   "source": [
    "import pickle\n",
    "\n",
    "# Save the models\n",
    "with open('linear_regression_model.pkl', 'wb') as file:\n",
    "    pickle.dump(reg_model, file)\n",
    "\n",
    "with open('polynomial_regression_model.pkl', 'wb') as file:\n",
    "    pickle.dump(polyreg, file)"
   ]
  },
  {
   "cell_type": "code",
   "execution_count": null,
   "id": "bdcdc475",
   "metadata": {},
   "outputs": [],
   "source": []
  }
 ],
 "metadata": {
  "kernelspec": {
   "display_name": "Python 3 (ipykernel)",
   "language": "python",
   "name": "python3"
  },
  "language_info": {
   "codemirror_mode": {
    "name": "ipython",
    "version": 3
   },
   "file_extension": ".py",
   "mimetype": "text/x-python",
   "name": "python",
   "nbconvert_exporter": "python",
   "pygments_lexer": "ipython3",
   "version": "3.9.5"
  }
 },
 "nbformat": 4,
 "nbformat_minor": 5
}
